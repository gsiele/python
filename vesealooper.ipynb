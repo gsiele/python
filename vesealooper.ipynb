{
 "cells": [
  {
   "cell_type": "code",
   "execution_count": 106,
   "id": "45f15c9c-af47-43b5-8ff1-707277984444",
   "metadata": {},
   "outputs": [],
   "source": [
    "from bs4 import BeautifulSoup\n",
    "from selenium import webdriver\n",
    "\n",
    "import pandas as pd\n",
    "import re\n",
    "import time"
   ]
  },
  {
   "cell_type": "code",
   "execution_count": 107,
   "id": "54ea3828-e836-4973-adb3-f2f3ca55d7de",
   "metadata": {},
   "outputs": [],
   "source": [
    "path = 'C:\\Program Files (x86)\\chromedriver'"
   ]
  },
  {
   "cell_type": "code",
   "execution_count": 108,
   "id": "47e4334c-a886-4e6c-a44d-f3ccba18a3a1",
   "metadata": {},
   "outputs": [],
   "source": [
    "driver = webdriver.Chrome(path)"
   ]
  },
  {
   "cell_type": "code",
   "execution_count": 109,
   "id": "4123a4d6-67c7-4966-8cce-92083fcf7e00",
   "metadata": {},
   "outputs": [],
   "source": [
    "url = 'https://vesea.io/vekings/collection.html'\n",
    "## Sleep gives the browser time to load before grabbing code\n",
    "driver.get(url)\n",
    "time.sleep(10)"
   ]
  },
  {
   "cell_type": "code",
   "execution_count": 110,
   "id": "9ed13a0b-3a88-44a9-b27d-945981fd2af4",
   "metadata": {},
   "outputs": [],
   "source": [
    "popup = driver.find_element_by_class_name('nft-item-bottom')\n",
    "popup.click()"
   ]
  },
  {
   "cell_type": "code",
   "execution_count": 111,
   "id": "0f0ad7d1-f87b-491c-b4f7-2ff024ac6885",
   "metadata": {},
   "outputs": [],
   "source": [
    "vking_html = driver.page_source\n",
    "vking_soup = BeautifulSoup(vking_html, 'html.parser')\n",
    "    "
   ]
  },
  {
   "cell_type": "code",
   "execution_count": 112,
   "id": "e552d8cd",
   "metadata": {},
   "outputs": [
    {
     "data": {
      "text/plain": [
       "\"VeKings - Collection | VeSeaHomeMarketplaceVeKingsHomeThe CollectionAttributesCommunityVeGhostsMint PageThe Collection Connect WalletMeet the VeKings!12345…334Search: VeKing #1VeKing #2VeKing #3VeKing #4VeKing #5VeKing #6VeKing #7VeKing #88 888 VETVeKing #99 999 VETVeKing #10VeKing #11VeKing #124 999 VETVeKing #13VeKing #147 500 VETVeKing #15127 000 VETVeKing #164 000 VETVeKing #17VeKing #18VeKing #19VeKing #20VeKing #213 000 VETVeKing #22VeKing #23VeKing #2418 765 VETVeKing #25VeKing #26VeKing #27VeKing #28VeKing #29VeKing #3012345…334Search: Terms & Conditions© VeSea LLC, 2021Viewing NFTCloseVeKing #1DetailsAttributesHigh OfferWith OfferTrading HistoryCreated by VeSea.CollectionVeKingsEdition #1Token ID1Owner's Address0x68d483e9c8d88fd2f7be1f6bd51e1924fd4ca7e3Token Address0x148442103eeADFAF8Cffd593Db80DCDeAddA71C9BlockchainVeChainBackgroundLight Sea GreenRuneSiklir RuneTypeLight VikingHairBrushed Back DarkMouthBeard Braids BrownHeadwearSnapback CapPrice250 001 VETFrom0x0bbc9e5c7ebd0d9575a7245d57abc7fd19097ae2Created at10/27/2021, 2:37:50 PMComing soon!\""
      ]
     },
     "execution_count": 112,
     "metadata": {},
     "output_type": "execute_result"
    }
   ],
   "source": [
    "vking_soup.text"
   ]
  },
  {
   "cell_type": "code",
   "execution_count": 113,
   "id": "85d973eb-2456-48c9-b1bc-d22781b727d3",
   "metadata": {
    "tags": []
   },
   "outputs": [],
   "source": [
    "vking_details = vking_soup.find(attrs={'class': 'details-tab' }).text"
   ]
  },
  {
   "cell_type": "code",
   "execution_count": 114,
   "id": "0d367470-3506-4c00-a072-5f9502b934e2",
   "metadata": {},
   "outputs": [],
   "source": [
    "vking_type = vking_soup.find(attrs={'class': 'item-info-details' }).text"
   ]
  },
  {
   "cell_type": "code",
   "execution_count": 115,
   "id": "64c08160",
   "metadata": {},
   "outputs": [
    {
     "data": {
      "text/plain": [
       "'VeKings'"
      ]
     },
     "execution_count": 115,
     "metadata": {},
     "output_type": "execute_result"
    }
   ],
   "source": [
    "vking_type"
   ]
  },
  {
   "cell_type": "code",
   "execution_count": 116,
   "id": "ab87dca9",
   "metadata": {},
   "outputs": [],
   "source": [
    "vking_type2 = vking_soup.find(attrs={'id': 'nav-attributes' }).text"
   ]
  },
  {
   "cell_type": "code",
   "execution_count": 101,
   "id": "e7106fd7",
   "metadata": {},
   "outputs": [
    {
     "data": {
      "text/plain": [
       "'BackgroundLight Sea GreenRuneSiklir RuneTypeLight VikingHairBrushed Back DarkMouthBeard Braids BrownHeadwearSnapback Cap'"
      ]
     },
     "execution_count": 101,
     "metadata": {},
     "output_type": "execute_result"
    }
   ],
   "source": [
    "vking_type2"
   ]
  },
  {
   "cell_type": "code",
   "execution_count": 102,
   "id": "e1d268d3",
   "metadata": {},
   "outputs": [
    {
     "data": {
      "text/plain": [
       "\"Created by VeSea.CollectionVeKingsEdition #1Token ID1Owner's Address0x68d483e9c8d88fd2f7be1f6bd51e1924fd4ca7e3Token Address0x148442103eeADFAF8Cffd593Db80DCDeAddA71C9BlockchainVeChain\""
      ]
     },
     "execution_count": 102,
     "metadata": {},
     "output_type": "execute_result"
    }
   ],
   "source": [
    "vking_details\n"
   ]
  },
  {
   "cell_type": "code",
   "execution_count": 104,
   "id": "ef7c7aed",
   "metadata": {},
   "outputs": [],
   "source": [
    "data = [[vking_details, vking_type2]]"
   ]
  },
  {
   "cell_type": "code",
   "execution_count": 105,
   "id": "daf8f9fc",
   "metadata": {},
   "outputs": [
    {
     "data": {
      "text/plain": [
       "[[\"Created by VeSea.CollectionVeKingsEdition #1Token ID1Owner's Address0x68d483e9c8d88fd2f7be1f6bd51e1924fd4ca7e3Token Address0x148442103eeADFAF8Cffd593Db80DCDeAddA71C9BlockchainVeChain\",\n",
       "  'BackgroundLight Sea GreenRuneSiklir RuneTypeLight VikingHairBrushed Back DarkMouthBeard Braids BrownHeadwearSnapback Cap']]"
      ]
     },
     "execution_count": 105,
     "metadata": {},
     "output_type": "execute_result"
    }
   ],
   "source": [
    "data"
   ]
  },
  {
   "cell_type": "code",
   "execution_count": null,
   "id": "af0373e2",
   "metadata": {},
   "outputs": [],
   "source": []
  }
 ],
 "metadata": {
  "kernelspec": {
   "display_name": "Python 3",
   "language": "python",
   "name": "python3"
  },
  "language_info": {
   "codemirror_mode": {
    "name": "ipython",
    "version": 3
   },
   "file_extension": ".py",
   "mimetype": "text/x-python",
   "name": "python",
   "nbconvert_exporter": "python",
   "pygments_lexer": "ipython3",
   "version": "3.8.8"
  }
 },
 "nbformat": 4,
 "nbformat_minor": 5
}
