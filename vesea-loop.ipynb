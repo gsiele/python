{
 "cells": [
  {
   "cell_type": "code",
   "execution_count": 14,
   "id": "45f15c9c-af47-43b5-8ff1-707277984444",
   "metadata": {},
   "outputs": [],
   "source": [
    "from bs4 import BeautifulSoup\n",
    "from selenium import webdriver\n",
    "\n",
    "import pandas as pd\n",
    "import re\n",
    "import time"
   ]
  },
  {
   "cell_type": "code",
   "execution_count": 15,
   "id": "54ea3828-e836-4973-adb3-f2f3ca55d7de",
   "metadata": {},
   "outputs": [],
   "source": [
    "path = 'C:\\Program Files (x86)\\chromedriver'"
   ]
  },
  {
   "cell_type": "code",
   "execution_count": 16,
   "id": "47e4334c-a886-4e6c-a44d-f3ccba18a3a1",
   "metadata": {},
   "outputs": [],
   "source": [
    "driver = webdriver.Chrome(path)"
   ]
  },
  {
   "cell_type": "code",
   "execution_count": 17,
   "id": "4123a4d6-67c7-4966-8cce-92083fcf7e00",
   "metadata": {},
   "outputs": [],
   "source": [
    "url = 'https://vesea.io/vekings/collection.html'\n",
    "## Sleep gives the browser time to load before grabbing code\n",
    "driver.get(url)\n",
    "time.sleep(10)"
   ]
  },
  {
   "cell_type": "code",
   "execution_count": 22,
   "id": "9ed13a0b-3a88-44a9-b27d-945981fd2af4",
   "metadata": {},
   "outputs": [],
   "source": [
    "main_html = driver.page_source\n",
    "windows = vking_soup.find_all('div', class_='nft-item-bottom')\n",
    "\n",
    "\n",
    "    \n",
    "    \n"
   ]
  },
  {
   "cell_type": "code",
   "execution_count": 25,
   "id": "97008d7d",
   "metadata": {},
   "outputs": [
    {
     "data": {
      "text/plain": [
       "<div class=\"nft-item-bottom\"><div class=\"nft-thumb\"><img alt=\"nft-img\" src=\"https://s3.amazonaws.com/vekings-g1.vesea.io/images/1.png\"/></div></div>"
      ]
     },
     "execution_count": 25,
     "metadata": {},
     "output_type": "execute_result"
    }
   ],
   "source": [
    "windows[0]"
   ]
  },
  {
   "cell_type": "code",
   "execution_count": 27,
   "id": "0f0ad7d1-f87b-491c-b4f7-2ff024ac6885",
   "metadata": {},
   "outputs": [
    {
     "ename": "TypeError",
     "evalue": "'NoneType' object is not callable",
     "output_type": "error",
     "traceback": [
      "\u001b[1;31m---------------------------------------------------------------------------\u001b[0m",
      "\u001b[1;31mTypeError\u001b[0m                                 Traceback (most recent call last)",
      "\u001b[1;32m<ipython-input-27-4b2070dcd996>\u001b[0m in \u001b[0;36m<module>\u001b[1;34m\u001b[0m\n\u001b[0;32m      1\u001b[0m \u001b[1;32mfor\u001b[0m \u001b[0meach\u001b[0m \u001b[1;32min\u001b[0m \u001b[0mwindows\u001b[0m\u001b[1;33m:\u001b[0m\u001b[1;33m\u001b[0m\u001b[1;33m\u001b[0m\u001b[0m\n\u001b[1;32m----> 2\u001b[1;33m     \u001b[0mpopup\u001b[0m \u001b[1;33m=\u001b[0m \u001b[0mvking_soup\u001b[0m\u001b[1;33m.\u001b[0m\u001b[0mfind_element_by_class_name\u001b[0m\u001b[1;33m(\u001b[0m\u001b[1;34m'nft-item-bottom'\u001b[0m\u001b[1;33m)\u001b[0m\u001b[1;33m\u001b[0m\u001b[1;33m\u001b[0m\u001b[0m\n\u001b[0m\u001b[0;32m      3\u001b[0m     \u001b[0mpopup\u001b[0m\u001b[1;33m.\u001b[0m\u001b[0mclick\u001b[0m\u001b[1;33m(\u001b[0m\u001b[1;33m)\u001b[0m\u001b[1;33m\u001b[0m\u001b[1;33m\u001b[0m\u001b[0m\n\u001b[0;32m      4\u001b[0m     \u001b[0mpopup_close\u001b[0m \u001b[1;33m=\u001b[0m \u001b[0mdriver\u001b[0m\u001b[1;33m.\u001b[0m\u001b[0mfind_element_by_class_name\u001b[0m\u001b[1;33m(\u001b[0m\u001b[1;34m'btn-close'\u001b[0m\u001b[1;33m)\u001b[0m\u001b[1;33m\u001b[0m\u001b[1;33m\u001b[0m\u001b[0m\n\u001b[0;32m      5\u001b[0m     \u001b[0mpopup_close\u001b[0m\u001b[1;33m.\u001b[0m\u001b[0mclick\u001b[0m\u001b[1;33m(\u001b[0m\u001b[1;33m)\u001b[0m\u001b[1;33m\u001b[0m\u001b[1;33m\u001b[0m\u001b[0m\n",
      "\u001b[1;31mTypeError\u001b[0m: 'NoneType' object is not callable"
     ]
    }
   ],
   "source": [
    "for each in windows:\n",
    "    popup = vking_soup.find_element_by_class_name('nft-item-bottom')\n",
    "    popup.click()\n",
    "    popup_close = driver.find_element_by_class_name('btn-close')\n",
    "    popup_close.click()\n",
    "\n",
    "    "
   ]
  },
  {
   "cell_type": "code",
   "execution_count": 112,
   "id": "928a89e7",
   "metadata": {},
   "outputs": [
    {
     "data": {
      "text/plain": [
       "\"VeKings - Collection | VeSeaHomeMarketplaceVeKingsHomeThe CollectionAttributesCommunityVeGhostsMint PageThe Collection Connect WalletMeet the VeKings!12345…334Search: VeKing #1VeKing #2VeKing #3VeKing #4VeKing #5VeKing #6VeKing #7VeKing #88 888 VETVeKing #99 999 VETVeKing #10VeKing #11VeKing #124 999 VETVeKing #13VeKing #147 500 VETVeKing #15127 000 VETVeKing #164 000 VETVeKing #17VeKing #18VeKing #19VeKing #20VeKing #213 000 VETVeKing #22VeKing #23VeKing #2418 765 VETVeKing #25VeKing #26VeKing #27VeKing #28VeKing #29VeKing #3012345…334Search: Terms & Conditions© VeSea LLC, 2021Viewing NFTCloseVeKing #1DetailsAttributesHigh OfferWith OfferTrading HistoryCreated by VeSea.CollectionVeKingsEdition #1Token ID1Owner's Address0x68d483e9c8d88fd2f7be1f6bd51e1924fd4ca7e3Token Address0x148442103eeADFAF8Cffd593Db80DCDeAddA71C9BlockchainVeChainBackgroundLight Sea GreenRuneSiklir RuneTypeLight VikingHairBrushed Back DarkMouthBeard Braids BrownHeadwearSnapback CapPrice250 001 VETFrom0x0bbc9e5c7ebd0d9575a7245d57abc7fd19097ae2Created at10/27/2021, 2:37:50 PMComing soon!\""
      ]
     },
     "execution_count": 112,
     "metadata": {},
     "output_type": "execute_result"
    }
   ],
   "source": [
    "vking_soup.text"
   ]
  },
  {
   "cell_type": "code",
   "execution_count": 113,
   "id": "85d973eb-2456-48c9-b1bc-d22781b727d3",
   "metadata": {
    "tags": []
   },
   "outputs": [],
   "source": [
    "vking_details = vking_soup.find(attrs={'class': 'details-tab' }).text"
   ]
  },
  {
   "cell_type": "code",
   "execution_count": 114,
   "id": "0d367470-3506-4c00-a072-5f9502b934e2",
   "metadata": {},
   "outputs": [],
   "source": [
    "vking_type = vking_soup.find(attrs={'class': 'item-info-details' }).text"
   ]
  },
  {
   "cell_type": "code",
   "execution_count": 115,
   "id": "49de6724",
   "metadata": {},
   "outputs": [
    {
     "data": {
      "text/plain": [
       "'VeKings'"
      ]
     },
     "execution_count": 115,
     "metadata": {},
     "output_type": "execute_result"
    }
   ],
   "source": [
    "vking_type"
   ]
  },
  {
   "cell_type": "code",
   "execution_count": 116,
   "id": "4feeed18",
   "metadata": {},
   "outputs": [],
   "source": [
    "vking_type2 = vking_soup.find(attrs={'id': 'nav-attributes' }).text"
   ]
  },
  {
   "cell_type": "code",
   "execution_count": 101,
   "id": "5e995810",
   "metadata": {},
   "outputs": [
    {
     "data": {
      "text/plain": [
       "'BackgroundLight Sea GreenRuneSiklir RuneTypeLight VikingHairBrushed Back DarkMouthBeard Braids BrownHeadwearSnapback Cap'"
      ]
     },
     "execution_count": 101,
     "metadata": {},
     "output_type": "execute_result"
    }
   ],
   "source": [
    "vking_type2"
   ]
  },
  {
   "cell_type": "code",
   "execution_count": 102,
   "id": "2d886576",
   "metadata": {},
   "outputs": [
    {
     "data": {
      "text/plain": [
       "\"Created by VeSea.CollectionVeKingsEdition #1Token ID1Owner's Address0x68d483e9c8d88fd2f7be1f6bd51e1924fd4ca7e3Token Address0x148442103eeADFAF8Cffd593Db80DCDeAddA71C9BlockchainVeChain\""
      ]
     },
     "execution_count": 102,
     "metadata": {},
     "output_type": "execute_result"
    }
   ],
   "source": [
    "vking_details\n"
   ]
  },
  {
   "cell_type": "code",
   "execution_count": 104,
   "id": "75a04186",
   "metadata": {},
   "outputs": [],
   "source": [
    "data = [[vking_details, vking_type2]]"
   ]
  },
  {
   "cell_type": "code",
   "execution_count": 105,
   "id": "14035223",
   "metadata": {},
   "outputs": [
    {
     "data": {
      "text/plain": [
       "[[\"Created by VeSea.CollectionVeKingsEdition #1Token ID1Owner's Address0x68d483e9c8d88fd2f7be1f6bd51e1924fd4ca7e3Token Address0x148442103eeADFAF8Cffd593Db80DCDeAddA71C9BlockchainVeChain\",\n",
       "  'BackgroundLight Sea GreenRuneSiklir RuneTypeLight VikingHairBrushed Back DarkMouthBeard Braids BrownHeadwearSnapback Cap']]"
      ]
     },
     "execution_count": 105,
     "metadata": {},
     "output_type": "execute_result"
    }
   ],
   "source": [
    "data"
   ]
  },
  {
   "cell_type": "code",
   "execution_count": null,
   "id": "d2658559",
   "metadata": {},
   "outputs": [],
   "source": [
    "for i in range(2) : \n",
    "    popup = vking_soup.find_all('div', class_='nft-item-bottom')\n",
    "    vking_soup = BeautifulSoup(vking_html, 'html.parser')\n",
    "    vking_details = vking_soup.find(attrs={'class': 'details-tab' }).text\n",
    "    vking_type2 = vking_soup.find(attrs={'id': 'nav-attributes' }).text\n",
    "    popup_close = driver.find_element_by_class_name('btn-close')\n",
    "    popup_close.click()\n",
    "    i += 1\n",
    "data = [[vking_details, vking_type2]]\n",
    "data"
   ]
  }
 ],
 "metadata": {
  "kernelspec": {
   "display_name": "Python 3",
   "language": "python",
   "name": "python3"
  },
  "language_info": {
   "codemirror_mode": {
    "name": "ipython",
    "version": 3
   },
   "file_extension": ".py",
   "mimetype": "text/x-python",
   "name": "python",
   "nbconvert_exporter": "python",
   "pygments_lexer": "ipython3",
   "version": "3.8.8"
  }
 },
 "nbformat": 4,
 "nbformat_minor": 5
}
