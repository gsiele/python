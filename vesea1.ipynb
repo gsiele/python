{
 "cells": [
  {
   "cell_type": "code",
   "execution_count": 14,
   "id": "45f15c9c-af47-43b5-8ff1-707277984444",
   "metadata": {},
   "outputs": [],
   "source": [
    "from bs4 import BeautifulSoup\n",
    "from selenium import webdriver\n",
    "\n",
    "import pandas as pd\n",
    "import re\n",
    "import time"
   ]
  },
  {
   "cell_type": "code",
   "execution_count": 15,
   "id": "54ea3828-e836-4973-adb3-f2f3ca55d7de",
   "metadata": {},
   "outputs": [],
   "source": [
    "path = 'C:\\Program Files (x86)\\chromedriver'"
   ]
  },
  {
   "cell_type": "code",
   "execution_count": 16,
   "id": "47e4334c-a886-4e6c-a44d-f3ccba18a3a1",
   "metadata": {},
   "outputs": [],
   "source": [
    "driver = webdriver.Chrome(path)"
   ]
  },
  {
   "cell_type": "code",
   "execution_count": 17,
   "id": "4123a4d6-67c7-4966-8cce-92083fcf7e00",
   "metadata": {},
   "outputs": [],
   "source": [
    "url = 'https://vesea.io/vekings/collection.html'\n",
    "## Sleep gives the browser time to load before grabbing code\n",
    "driver.get(url)\n",
    "time.sleep(10)"
   ]
  },
  {
   "cell_type": "code",
   "execution_count": 18,
   "id": "9ed13a0b-3a88-44a9-b27d-945981fd2af4",
   "metadata": {},
   "outputs": [],
   "source": [
    "popup = driver.find_element_by_class_name('nft-item-bottom')\n",
    "popup.click()"
   ]
  },
  {
   "cell_type": "code",
   "execution_count": null,
   "id": "0f0ad7d1-f87b-491c-b4f7-2ff024ac6885",
   "metadata": {},
   "outputs": [],
   "source": []
  }
 ],
 "metadata": {
  "kernelspec": {
   "display_name": "Python 3",
   "language": "python",
   "name": "python3"
  },
  "language_info": {
   "codemirror_mode": {
    "name": "ipython",
    "version": 3
   },
   "file_extension": ".py",
   "mimetype": "text/x-python",
   "name": "python",
   "nbconvert_exporter": "python",
   "pygments_lexer": "ipython3",
   "version": "3.8.8"
  }
 },
 "nbformat": 4,
 "nbformat_minor": 5
}
